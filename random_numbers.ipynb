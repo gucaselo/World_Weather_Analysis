{
 "cells": [
  {
   "cell_type": "code",
   "execution_count": 9,
   "id": "895712d4",
   "metadata": {},
   "outputs": [],
   "source": [
    "# 6.1.4\n",
    "# Import the random module\n",
    "import random"
   ]
  },
  {
   "cell_type": "code",
   "execution_count": 10,
   "id": "a71dbaaa",
   "metadata": {},
   "outputs": [
    {
     "data": {
      "text/plain": [
       "77"
      ]
     },
     "execution_count": 10,
     "metadata": {},
     "output_type": "execute_result"
    }
   ],
   "source": [
    "# 6.1.4\n",
    "random.randint(-90, 90)"
   ]
  },
  {
   "cell_type": "code",
   "execution_count": 11,
   "id": "16aea667",
   "metadata": {},
   "outputs": [
    {
     "data": {
      "text/plain": [
       "0.49458240068899306"
      ]
     },
     "execution_count": 11,
     "metadata": {},
     "output_type": "execute_result"
    }
   ],
   "source": [
    "# 6.1.4\n",
    "random.random()"
   ]
  },
  {
   "cell_type": "code",
   "execution_count": 14,
   "id": "e11d93ee",
   "metadata": {},
   "outputs": [
    {
     "data": {
      "text/plain": [
       "[-62.77559593561656,\n",
       " -45.56440770263129,\n",
       " 86.09189286740106,\n",
       " -8.693514556704118,\n",
       " 44.43200896687129,\n",
       " -2.153992954353896,\n",
       " 49.51930271272468,\n",
       " 41.69428643539587,\n",
       " -68.97641225287117,\n",
       " -39.34226300740671]"
      ]
     },
     "execution_count": 14,
     "metadata": {},
     "output_type": "execute_result"
    }
   ],
   "source": [
    "# 6.1.4\n",
    "# Assign the variable x to 1\n",
    "# Initialize an empty list (latitudes)\n",
    "# Create a loop where we generate a random latitude & add it to the list\n",
    "# After the random latitude is added to the list we add one to the variable x\n",
    "# The while loop condition is checked again & will continue to run as long as x is less than 11\n",
    "\n",
    "x = 1\n",
    "latitudes = []\n",
    "while x < 11:\n",
    "    random_lat = random.randint(-90, 89) + random.random()\n",
    "    latitudes.append(random_lat)\n",
    "    x += 1\n",
    "    \n",
    "latitudes"
   ]
  },
  {
   "cell_type": "code",
   "execution_count": 15,
   "id": "be893f10",
   "metadata": {},
   "outputs": [
    {
     "data": {
      "text/plain": [
       "18"
      ]
     },
     "execution_count": 15,
     "metadata": {},
     "output_type": "execute_result"
    }
   ],
   "source": [
    "# 6.1.4\n",
    "random.randrange(-90, 90, step=1)"
   ]
  },
  {
   "cell_type": "code",
   "execution_count": 16,
   "id": "fdbf9f2d",
   "metadata": {},
   "outputs": [
    {
     "data": {
      "text/plain": [
       "-21"
      ]
     },
     "execution_count": 16,
     "metadata": {},
     "output_type": "execute_result"
    }
   ],
   "source": [
    "# 6.1.4\n",
    "random.randrange(-90, 90, step=3)"
   ]
  },
  {
   "cell_type": "code",
   "execution_count": 17,
   "id": "895bcba9",
   "metadata": {},
   "outputs": [
    {
     "data": {
      "text/plain": [
       "-17.979700745476805"
      ]
     },
     "execution_count": 17,
     "metadata": {},
     "output_type": "execute_result"
    }
   ],
   "source": [
    "# 6.1.4\n",
    "random.uniform(-90, 90)"
   ]
  },
  {
   "cell_type": "code",
   "execution_count": 18,
   "id": "4488a372",
   "metadata": {},
   "outputs": [],
   "source": [
    "# Import the Numpy module\n",
    "import numpy as np"
   ]
  },
  {
   "cell_type": "code",
   "execution_count": 21,
   "id": "8e40bdfb",
   "metadata": {},
   "outputs": [
    {
     "data": {
      "text/plain": [
       "82.66129867837836"
      ]
     },
     "execution_count": 21,
     "metadata": {},
     "output_type": "execute_result"
    }
   ],
   "source": [
    "np.random.uniform(-90.000, 90.000)"
   ]
  },
  {
   "cell_type": "code",
   "execution_count": 22,
   "id": "0b2624fb",
   "metadata": {},
   "outputs": [
    {
     "data": {
      "text/plain": [
       "array([-67.90833097,  43.62683541, -72.59968849,  24.53753305,\n",
       "        11.08469945, -61.9724393 , -42.91638468, -78.01109531,\n",
       "        11.59629503,  63.78170845,  69.04513128, -68.05163366,\n",
       "        82.03258368, -35.13801828, -25.7312655 , -49.8371179 ,\n",
       "        83.22477413,  13.50531171,  60.12716246,  -4.7198058 ,\n",
       "       -48.94406637, -76.61601469, -25.66740101, -15.32334242,\n",
       "       -22.74743492,  36.55820309,  78.46850392,  67.77537437,\n",
       "       -32.13365582, -47.85846949,   1.01225868,  43.21162672,\n",
       "       -62.16573615,  76.25117349, -33.26418742,  -6.32414975,\n",
       "       -27.59982187, -61.8504721 , -12.88691494, -43.98395273,\n",
       "        39.5441234 , -81.41226188,  29.50680839,  26.92387513,\n",
       "       -56.69875904, -74.32136161,  16.15531245, -67.31553238,\n",
       "       -81.26913489, -41.4494341 ])"
      ]
     },
     "execution_count": 22,
     "metadata": {},
     "output_type": "execute_result"
    }
   ],
   "source": [
    "np.random.uniform(-90.000, 90.000, size=50)"
   ]
  },
  {
   "cell_type": "code",
   "execution_count": 23,
   "id": "6022cded",
   "metadata": {},
   "outputs": [],
   "source": [
    "# 6.1.4\n",
    "# Import timeit\n",
    "import timeit"
   ]
  },
  {
   "cell_type": "code",
   "execution_count": 24,
   "id": "366eb8c4",
   "metadata": {},
   "outputs": [
    {
     "name": "stdout",
     "output_type": "stream",
     "text": [
      "14.2 µs ± 274 ns per loop (mean ± std. dev. of 7 runs, 100000 loops each)\n"
     ]
    }
   ],
   "source": [
    "%timeit np.random.uniform(-90.000, 90.000, size=1500)"
   ]
  },
  {
   "cell_type": "code",
   "execution_count": 28,
   "id": "bf9f58a5",
   "metadata": {},
   "outputs": [
    {
     "name": "stdout",
     "output_type": "stream",
     "text": [
      "1.73 ms ± 22.1 µs per loop (mean ± std. dev. of 7 runs, 1000 loops each)\n",
      "<function latitudes at 0x0000015B43022168>\n"
     ]
    }
   ],
   "source": [
    "def latitudes(size):\n",
    "    latitudes = []\n",
    "    x = 0\n",
    "    while x < (size):\n",
    "        random_lat = random.randint(-90, 90) + random.random()\n",
    "        latitudes.append(random_lat)\n",
    "        x += 1\n",
    "    return latitudes\n",
    "# Call the function with 1500.\n",
    "%timeit latitudes(1500)\n"
   ]
  },
  {
   "cell_type": "code",
   "execution_count": null,
   "id": "b4cdca34",
   "metadata": {},
   "outputs": [],
   "source": []
  }
 ],
 "metadata": {
  "kernelspec": {
   "display_name": "PythonData",
   "language": "python",
   "name": "pythondata"
  },
  "language_info": {
   "codemirror_mode": {
    "name": "ipython",
    "version": 3
   },
   "file_extension": ".py",
   "mimetype": "text/x-python",
   "name": "python",
   "nbconvert_exporter": "python",
   "pygments_lexer": "ipython3",
   "version": "3.7.11"
  }
 },
 "nbformat": 4,
 "nbformat_minor": 5
}
